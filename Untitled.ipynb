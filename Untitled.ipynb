{
 "cells": [
  {
   "cell_type": "code",
   "execution_count": 3,
   "id": "a1dd9a98-2787-4473-963b-af16b330e97e",
   "metadata": {},
   "outputs": [
    {
     "data": {
      "text/plain": [
       "'PersonalBlog.settings'"
      ]
     },
     "execution_count": 3,
     "metadata": {},
     "output_type": "execute_result"
    }
   ],
   "source": [
    "import os\n",
    "os.environ.setdefault(\"DJANGO_SETTINGS_MODULE\", \"PersonalBlog.settings\")\n"
   ]
  },
  {
   "cell_type": "code",
   "execution_count": 4,
   "id": "8d5509c6-045b-4523-9508-e94677109f12",
   "metadata": {},
   "outputs": [],
   "source": [
    "import django\n",
    "django.setup()\n",
    "os.environ[\"DJANGO_ALLOW_ASYNC_UNSAFE\"] = \"true\"\n"
   ]
  },
  {
   "cell_type": "code",
   "execution_count": 5,
   "id": "22089960-b262-4d33-82ca-89c2a79b1b92",
   "metadata": {},
   "outputs": [
    {
     "data": {
      "text/plain": [
       "<QuerySet [<User: Rungrukuk>, <User: test0>, <User: test1>, <User: zaman>, <User: test2>, <User: cute_aubrey>]>"
      ]
     },
     "execution_count": 5,
     "metadata": {},
     "output_type": "execute_result"
    }
   ],
   "source": [
    "from BlogApp.models import User, BlogPost, Like, Comment, CommentLike, Reply\n",
    "User.objects.all()\n"
   ]
  },
  {
   "cell_type": "code",
   "execution_count": 7,
   "id": "965c3f6e-792f-4d2c-b444-4c14c4b9bde7",
   "metadata": {},
   "outputs": [
    {
     "name": "stdout",
     "output_type": "stream",
     "text": [
      "0\n",
      "0\n"
     ]
    }
   ],
   "source": [
    "blog_post = BlogPost.objects.get(id=1)\n",
    "print(blog_post.like_count)  # Prints the number of likes for the blog post\n",
    "print(blog_post.comment_count)  # Prints the number of comments for the blog post\n",
    "\n",
    "# comment = Comment.objects.get(id=1)\n",
    "# print(comment.like_count)  # Prints the number of likes for the comment\n",
    "# print(comment.reply_count)"
   ]
  }
 ],
 "metadata": {
  "kernelspec": {
   "display_name": "Python 3 (ipykernel)",
   "language": "python",
   "name": "python3"
  },
  "language_info": {
   "codemirror_mode": {
    "name": "ipython",
    "version": 3
   },
   "file_extension": ".py",
   "mimetype": "text/x-python",
   "name": "python",
   "nbconvert_exporter": "python",
   "pygments_lexer": "ipython3",
   "version": "3.11.5"
  }
 },
 "nbformat": 4,
 "nbformat_minor": 5
}
